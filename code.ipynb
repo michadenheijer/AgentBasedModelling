{
 "cells": [
  {
   "cell_type": "markdown",
   "metadata": {},
   "source": [
    "# Mesa Modelling\n",
    "The best way to model this problem is by using Mesa. First we need to install Mesa."
   ]
  },
  {
   "cell_type": "code",
   "execution_count": 2,
   "metadata": {},
   "outputs": [
    {
     "name": "stdout",
     "output_type": "stream",
     "text": [
      "Requirement already satisfied: pip in /Library/Frameworks/Python.framework/Versions/3.11/lib/python3.11/site-packages (24.0)\n",
      "Collecting pip\n",
      "  Downloading pip-24.1-py3-none-any.whl.metadata (3.6 kB)\n",
      "Requirement already satisfied: mesa in /Library/Frameworks/Python.framework/Versions/3.11/lib/python3.11/site-packages (2.3.0)\n",
      "Requirement already satisfied: click in /Library/Frameworks/Python.framework/Versions/3.11/lib/python3.11/site-packages (from mesa) (8.1.3)\n",
      "Requirement already satisfied: cookiecutter in /Library/Frameworks/Python.framework/Versions/3.11/lib/python3.11/site-packages (from mesa) (2.6.0)\n",
      "Requirement already satisfied: matplotlib in /Library/Frameworks/Python.framework/Versions/3.11/lib/python3.11/site-packages (from mesa) (3.7.0)\n",
      "Requirement already satisfied: mesa-viz-tornado>=0.1.3,~=0.1.0 in /Library/Frameworks/Python.framework/Versions/3.11/lib/python3.11/site-packages (from mesa) (0.1.3)\n",
      "Requirement already satisfied: networkx in /Library/Frameworks/Python.framework/Versions/3.11/lib/python3.11/site-packages (from mesa) (3.2.1)\n",
      "Requirement already satisfied: numpy in /Library/Frameworks/Python.framework/Versions/3.11/lib/python3.11/site-packages (from mesa) (1.25.2)\n",
      "Requirement already satisfied: pandas in /Library/Frameworks/Python.framework/Versions/3.11/lib/python3.11/site-packages (from mesa) (2.1.4)\n",
      "Requirement already satisfied: solara in /Library/Frameworks/Python.framework/Versions/3.11/lib/python3.11/site-packages (from mesa) (1.33.0)\n",
      "Requirement already satisfied: tqdm in /Library/Frameworks/Python.framework/Versions/3.11/lib/python3.11/site-packages (from mesa) (4.64.1)\n",
      "Requirement already satisfied: tornado in /Library/Frameworks/Python.framework/Versions/3.11/lib/python3.11/site-packages (from mesa-viz-tornado>=0.1.3,~=0.1.0->mesa) (6.2)\n",
      "Requirement already satisfied: binaryornot>=0.4.4 in /Library/Frameworks/Python.framework/Versions/3.11/lib/python3.11/site-packages (from cookiecutter->mesa) (0.4.4)\n",
      "Requirement already satisfied: Jinja2<4.0.0,>=2.7 in /Library/Frameworks/Python.framework/Versions/3.11/lib/python3.11/site-packages (from cookiecutter->mesa) (3.1.2)\n",
      "Requirement already satisfied: pyyaml>=5.3.1 in /Library/Frameworks/Python.framework/Versions/3.11/lib/python3.11/site-packages (from cookiecutter->mesa) (6.0.1)\n",
      "Requirement already satisfied: python-slugify>=4.0.0 in /Library/Frameworks/Python.framework/Versions/3.11/lib/python3.11/site-packages (from cookiecutter->mesa) (8.0.4)\n",
      "Requirement already satisfied: requests>=2.23.0 in /Library/Frameworks/Python.framework/Versions/3.11/lib/python3.11/site-packages (from cookiecutter->mesa) (2.28.2)\n",
      "Requirement already satisfied: arrow in /Library/Frameworks/Python.framework/Versions/3.11/lib/python3.11/site-packages (from cookiecutter->mesa) (1.3.0)\n",
      "Requirement already satisfied: rich in /Library/Frameworks/Python.framework/Versions/3.11/lib/python3.11/site-packages (from cookiecutter->mesa) (13.3.5)\n",
      "Requirement already satisfied: contourpy>=1.0.1 in /Library/Frameworks/Python.framework/Versions/3.11/lib/python3.11/site-packages (from matplotlib->mesa) (1.0.6)\n",
      "Requirement already satisfied: cycler>=0.10 in /Library/Frameworks/Python.framework/Versions/3.11/lib/python3.11/site-packages (from matplotlib->mesa) (0.11.0)\n",
      "Requirement already satisfied: fonttools>=4.22.0 in /Library/Frameworks/Python.framework/Versions/3.11/lib/python3.11/site-packages (from matplotlib->mesa) (4.38.0)\n",
      "Requirement already satisfied: kiwisolver>=1.0.1 in /Library/Frameworks/Python.framework/Versions/3.11/lib/python3.11/site-packages (from matplotlib->mesa) (1.4.4)\n",
      "Requirement already satisfied: packaging>=20.0 in /Library/Frameworks/Python.framework/Versions/3.11/lib/python3.11/site-packages (from matplotlib->mesa) (21.3)\n",
      "Requirement already satisfied: pillow>=6.2.0 in /Library/Frameworks/Python.framework/Versions/3.11/lib/python3.11/site-packages (from matplotlib->mesa) (9.3.0)\n",
      "Requirement already satisfied: pyparsing>=2.3.1 in /Library/Frameworks/Python.framework/Versions/3.11/lib/python3.11/site-packages (from matplotlib->mesa) (3.0.9)\n",
      "Requirement already satisfied: python-dateutil>=2.7 in /Library/Frameworks/Python.framework/Versions/3.11/lib/python3.11/site-packages (from matplotlib->mesa) (2.8.2)\n",
      "Requirement already satisfied: pytz>=2020.1 in /Library/Frameworks/Python.framework/Versions/3.11/lib/python3.11/site-packages (from pandas->mesa) (2022.6)\n",
      "Requirement already satisfied: tzdata>=2022.1 in /Library/Frameworks/Python.framework/Versions/3.11/lib/python3.11/site-packages (from pandas->mesa) (2023.3)\n",
      "Requirement already satisfied: solara-server==1.33.0 in /Library/Frameworks/Python.framework/Versions/3.11/lib/python3.11/site-packages (from solara-server[dev,starlette]==1.33.0->solara->mesa) (1.33.0)\n",
      "Requirement already satisfied: solara-ui==1.33.0 in /Library/Frameworks/Python.framework/Versions/3.11/lib/python3.11/site-packages (from solara-ui[all]==1.33.0->solara->mesa) (1.33.0)\n",
      "Requirement already satisfied: filelock in /Library/Frameworks/Python.framework/Versions/3.11/lib/python3.11/site-packages (from solara-server==1.33.0->solara-server[dev,starlette]==1.33.0->solara->mesa) (3.13.1)\n",
      "Requirement already satisfied: ipykernel in /Library/Frameworks/Python.framework/Versions/3.11/lib/python3.11/site-packages (from solara-server==1.33.0->solara-server[dev,starlette]==1.33.0->solara->mesa) (6.17.1)\n",
      "Requirement already satisfied: jupyter-client>=7.0.0 in /Library/Frameworks/Python.framework/Versions/3.11/lib/python3.11/site-packages (from solara-server==1.33.0->solara-server[dev,starlette]==1.33.0->solara->mesa) (7.4.7)\n",
      "Requirement already satisfied: nbformat in /Library/Frameworks/Python.framework/Versions/3.11/lib/python3.11/site-packages (from solara-server==1.33.0->solara-server[dev,starlette]==1.33.0->solara->mesa) (5.10.4)\n",
      "Requirement already satisfied: rich-click in /Library/Frameworks/Python.framework/Versions/3.11/lib/python3.11/site-packages (from solara-server==1.33.0->solara-server[dev,starlette]==1.33.0->solara->mesa) (1.8.3)\n",
      "Requirement already satisfied: watchdog in /Library/Frameworks/Python.framework/Versions/3.11/lib/python3.11/site-packages (from solara-server[dev,starlette]==1.33.0->solara->mesa) (2.2.1)\n",
      "Requirement already satisfied: watchfiles in /Library/Frameworks/Python.framework/Versions/3.11/lib/python3.11/site-packages (from solara-server[dev,starlette]==1.33.0->solara->mesa) (0.22.0)\n",
      "Requirement already satisfied: starlette in /Library/Frameworks/Python.framework/Versions/3.11/lib/python3.11/site-packages (from solara-server[dev,starlette]==1.33.0->solara->mesa) (0.37.2)\n",
      "Requirement already satisfied: uvicorn in /Library/Frameworks/Python.framework/Versions/3.11/lib/python3.11/site-packages (from solara-server[dev,starlette]==1.33.0->solara->mesa) (0.30.1)\n",
      "Requirement already satisfied: websockets in /Library/Frameworks/Python.framework/Versions/3.11/lib/python3.11/site-packages (from solara-server[dev,starlette]==1.33.0->solara->mesa) (12.0)\n",
      "Requirement already satisfied: humanize in /Library/Frameworks/Python.framework/Versions/3.11/lib/python3.11/site-packages (from solara-ui==1.33.0->solara-ui[all]==1.33.0->solara->mesa) (4.9.0)\n",
      "Requirement already satisfied: ipyvue>=1.9.0 in /Library/Frameworks/Python.framework/Versions/3.11/lib/python3.11/site-packages (from solara-ui==1.33.0->solara-ui[all]==1.33.0->solara->mesa) (1.11.1)\n",
      "Requirement already satisfied: ipyvuetify>=1.6.10 in /Library/Frameworks/Python.framework/Versions/3.11/lib/python3.11/site-packages (from solara-ui==1.33.0->solara-ui[all]==1.33.0->solara->mesa) (1.9.4)\n",
      "Requirement already satisfied: ipywidgets>=7.7 in /Library/Frameworks/Python.framework/Versions/3.11/lib/python3.11/site-packages (from solara-ui==1.33.0->solara-ui[all]==1.33.0->solara->mesa) (8.0.2)\n",
      "Requirement already satisfied: reacton>=1.7.1 in /Library/Frameworks/Python.framework/Versions/3.11/lib/python3.11/site-packages (from solara-ui==1.33.0->solara-ui[all]==1.33.0->solara->mesa) (1.8.3)\n",
      "Requirement already satisfied: chardet>=3.0.2 in /Library/Frameworks/Python.framework/Versions/3.11/lib/python3.11/site-packages (from binaryornot>=0.4.4->cookiecutter->mesa) (5.2.0)\n",
      "Requirement already satisfied: MarkupSafe>=2.0 in /Library/Frameworks/Python.framework/Versions/3.11/lib/python3.11/site-packages (from Jinja2<4.0.0,>=2.7->cookiecutter->mesa) (2.1.3)\n",
      "Requirement already satisfied: six>=1.5 in /Library/Frameworks/Python.framework/Versions/3.11/lib/python3.11/site-packages (from python-dateutil>=2.7->matplotlib->mesa) (1.16.0)\n",
      "Requirement already satisfied: text-unidecode>=1.3 in /Library/Frameworks/Python.framework/Versions/3.11/lib/python3.11/site-packages (from python-slugify>=4.0.0->cookiecutter->mesa) (1.3)\n",
      "Requirement already satisfied: charset-normalizer<4,>=2 in /Library/Frameworks/Python.framework/Versions/3.11/lib/python3.11/site-packages (from requests>=2.23.0->cookiecutter->mesa) (2.1.1)\n",
      "Requirement already satisfied: idna<4,>=2.5 in /Library/Frameworks/Python.framework/Versions/3.11/lib/python3.11/site-packages (from requests>=2.23.0->cookiecutter->mesa) (3.4)\n",
      "Requirement already satisfied: urllib3<1.27,>=1.21.1 in /Library/Frameworks/Python.framework/Versions/3.11/lib/python3.11/site-packages (from requests>=2.23.0->cookiecutter->mesa) (1.26.13)\n",
      "Requirement already satisfied: certifi>=2017.4.17 in /Library/Frameworks/Python.framework/Versions/3.11/lib/python3.11/site-packages (from requests>=2.23.0->cookiecutter->mesa) (2022.12.7)\n",
      "Requirement already satisfied: types-python-dateutil>=2.8.10 in /Library/Frameworks/Python.framework/Versions/3.11/lib/python3.11/site-packages (from arrow->cookiecutter->mesa) (2.9.0.20240316)\n",
      "Requirement already satisfied: markdown-it-py<3.0.0,>=2.2.0 in /Library/Frameworks/Python.framework/Versions/3.11/lib/python3.11/site-packages (from rich->cookiecutter->mesa) (2.2.0)\n",
      "Requirement already satisfied: pygments<3.0.0,>=2.13.0 in /Library/Frameworks/Python.framework/Versions/3.11/lib/python3.11/site-packages (from rich->cookiecutter->mesa) (2.13.0)\n",
      "Requirement already satisfied: ipython>=6.1.0 in /Library/Frameworks/Python.framework/Versions/3.11/lib/python3.11/site-packages (from ipywidgets>=7.7->solara-ui==1.33.0->solara-ui[all]==1.33.0->solara->mesa) (8.6.0)\n",
      "Requirement already satisfied: traitlets>=4.3.1 in /Library/Frameworks/Python.framework/Versions/3.11/lib/python3.11/site-packages (from ipywidgets>=7.7->solara-ui==1.33.0->solara-ui[all]==1.33.0->solara->mesa) (5.5.0)\n",
      "Requirement already satisfied: widgetsnbextension~=4.0 in /Library/Frameworks/Python.framework/Versions/3.11/lib/python3.11/site-packages (from ipywidgets>=7.7->solara-ui==1.33.0->solara-ui[all]==1.33.0->solara->mesa) (4.0.3)\n",
      "Requirement already satisfied: jupyterlab-widgets~=3.0 in /Library/Frameworks/Python.framework/Versions/3.11/lib/python3.11/site-packages (from ipywidgets>=7.7->solara-ui==1.33.0->solara-ui[all]==1.33.0->solara->mesa) (3.0.3)\n",
      "Requirement already satisfied: appnope in /Library/Frameworks/Python.framework/Versions/3.11/lib/python3.11/site-packages (from ipykernel->solara-server==1.33.0->solara-server[dev,starlette]==1.33.0->solara->mesa) (0.1.3)\n",
      "Requirement already satisfied: debugpy>=1.0 in /Library/Frameworks/Python.framework/Versions/3.11/lib/python3.11/site-packages (from ipykernel->solara-server==1.33.0->solara-server[dev,starlette]==1.33.0->solara->mesa) (1.6.3)\n",
      "Requirement already satisfied: matplotlib-inline>=0.1 in /Library/Frameworks/Python.framework/Versions/3.11/lib/python3.11/site-packages (from ipykernel->solara-server==1.33.0->solara-server[dev,starlette]==1.33.0->solara->mesa) (0.1.6)\n",
      "Requirement already satisfied: nest-asyncio in /Library/Frameworks/Python.framework/Versions/3.11/lib/python3.11/site-packages (from ipykernel->solara-server==1.33.0->solara-server[dev,starlette]==1.33.0->solara->mesa) (1.5.6)\n",
      "Requirement already satisfied: psutil in /Library/Frameworks/Python.framework/Versions/3.11/lib/python3.11/site-packages (from ipykernel->solara-server==1.33.0->solara-server[dev,starlette]==1.33.0->solara->mesa) (5.9.4)\n",
      "Requirement already satisfied: pyzmq>=17 in /Library/Frameworks/Python.framework/Versions/3.11/lib/python3.11/site-packages (from ipykernel->solara-server==1.33.0->solara-server[dev,starlette]==1.33.0->solara->mesa) (24.0.1)\n",
      "Requirement already satisfied: entrypoints in /Library/Frameworks/Python.framework/Versions/3.11/lib/python3.11/site-packages (from jupyter-client>=7.0.0->solara-server==1.33.0->solara-server[dev,starlette]==1.33.0->solara->mesa) (0.4)\n",
      "Requirement already satisfied: jupyter-core>=4.9.2 in /Library/Frameworks/Python.framework/Versions/3.11/lib/python3.11/site-packages (from jupyter-client>=7.0.0->solara-server==1.33.0->solara-server[dev,starlette]==1.33.0->solara->mesa) (5.7.2)\n",
      "Requirement already satisfied: mdurl~=0.1 in /Library/Frameworks/Python.framework/Versions/3.11/lib/python3.11/site-packages (from markdown-it-py<3.0.0,>=2.2.0->rich->cookiecutter->mesa) (0.1.2)\n",
      "Requirement already satisfied: typing-extensions>=4.1.1 in /Library/Frameworks/Python.framework/Versions/3.11/lib/python3.11/site-packages (from reacton>=1.7.1->solara-ui==1.33.0->solara-ui[all]==1.33.0->solara->mesa) (4.5.0)\n",
      "Requirement already satisfied: fastjsonschema>=2.15 in /Library/Frameworks/Python.framework/Versions/3.11/lib/python3.11/site-packages (from nbformat->solara-server==1.33.0->solara-server[dev,starlette]==1.33.0->solara->mesa) (2.20.0)\n",
      "Requirement already satisfied: jsonschema>=2.6 in /Library/Frameworks/Python.framework/Versions/3.11/lib/python3.11/site-packages (from nbformat->solara-server==1.33.0->solara-server[dev,starlette]==1.33.0->solara->mesa) (4.22.0)\n",
      "Requirement already satisfied: cachetools in /Library/Frameworks/Python.framework/Versions/3.11/lib/python3.11/site-packages (from solara-ui==1.33.0->solara-ui[all]==1.33.0->solara->mesa) (5.3.3)\n",
      "Requirement already satisfied: markdown in /Library/Frameworks/Python.framework/Versions/3.11/lib/python3.11/site-packages (from solara-ui==1.33.0->solara-ui[all]==1.33.0->solara->mesa) (3.6)\n",
      "Requirement already satisfied: pymdown-extensions in /Library/Frameworks/Python.framework/Versions/3.11/lib/python3.11/site-packages (from solara-ui==1.33.0->solara-ui[all]==1.33.0->solara->mesa) (10.8.1)\n",
      "Requirement already satisfied: anyio<5,>=3.4.0 in /Library/Frameworks/Python.framework/Versions/3.11/lib/python3.11/site-packages (from starlette->solara-server[dev,starlette]==1.33.0->solara->mesa) (4.4.0)\n",
      "Requirement already satisfied: h11>=0.8 in /Library/Frameworks/Python.framework/Versions/3.11/lib/python3.11/site-packages (from uvicorn->solara-server[dev,starlette]==1.33.0->solara->mesa) (0.14.0)\n",
      "Requirement already satisfied: sniffio>=1.1 in /Library/Frameworks/Python.framework/Versions/3.11/lib/python3.11/site-packages (from anyio<5,>=3.4.0->starlette->solara-server[dev,starlette]==1.33.0->solara->mesa) (1.3.1)\n",
      "Requirement already satisfied: backcall in /Library/Frameworks/Python.framework/Versions/3.11/lib/python3.11/site-packages (from ipython>=6.1.0->ipywidgets>=7.7->solara-ui==1.33.0->solara-ui[all]==1.33.0->solara->mesa) (0.2.0)\n",
      "Requirement already satisfied: decorator in /Library/Frameworks/Python.framework/Versions/3.11/lib/python3.11/site-packages (from ipython>=6.1.0->ipywidgets>=7.7->solara-ui==1.33.0->solara-ui[all]==1.33.0->solara->mesa) (5.1.1)\n",
      "Requirement already satisfied: jedi>=0.16 in /Library/Frameworks/Python.framework/Versions/3.11/lib/python3.11/site-packages (from ipython>=6.1.0->ipywidgets>=7.7->solara-ui==1.33.0->solara-ui[all]==1.33.0->solara->mesa) (0.18.1)\n",
      "Requirement already satisfied: pickleshare in /Library/Frameworks/Python.framework/Versions/3.11/lib/python3.11/site-packages (from ipython>=6.1.0->ipywidgets>=7.7->solara-ui==1.33.0->solara-ui[all]==1.33.0->solara->mesa) (0.7.5)\n",
      "Requirement already satisfied: prompt-toolkit<3.1.0,>3.0.1 in /Library/Frameworks/Python.framework/Versions/3.11/lib/python3.11/site-packages (from ipython>=6.1.0->ipywidgets>=7.7->solara-ui==1.33.0->solara-ui[all]==1.33.0->solara->mesa) (3.0.32)\n",
      "Requirement already satisfied: stack-data in /Library/Frameworks/Python.framework/Versions/3.11/lib/python3.11/site-packages (from ipython>=6.1.0->ipywidgets>=7.7->solara-ui==1.33.0->solara-ui[all]==1.33.0->solara->mesa) (0.6.1)\n",
      "Requirement already satisfied: pexpect>4.3 in /Library/Frameworks/Python.framework/Versions/3.11/lib/python3.11/site-packages (from ipython>=6.1.0->ipywidgets>=7.7->solara-ui==1.33.0->solara-ui[all]==1.33.0->solara->mesa) (4.8.0)\n",
      "Requirement already satisfied: attrs>=22.2.0 in /Library/Frameworks/Python.framework/Versions/3.11/lib/python3.11/site-packages (from jsonschema>=2.6->nbformat->solara-server==1.33.0->solara-server[dev,starlette]==1.33.0->solara->mesa) (22.2.0)\n",
      "Requirement already satisfied: jsonschema-specifications>=2023.03.6 in /Library/Frameworks/Python.framework/Versions/3.11/lib/python3.11/site-packages (from jsonschema>=2.6->nbformat->solara-server==1.33.0->solara-server[dev,starlette]==1.33.0->solara->mesa) (2023.12.1)\n",
      "Requirement already satisfied: referencing>=0.28.4 in /Library/Frameworks/Python.framework/Versions/3.11/lib/python3.11/site-packages (from jsonschema>=2.6->nbformat->solara-server==1.33.0->solara-server[dev,starlette]==1.33.0->solara->mesa) (0.35.1)\n",
      "Requirement already satisfied: rpds-py>=0.7.1 in /Library/Frameworks/Python.framework/Versions/3.11/lib/python3.11/site-packages (from jsonschema>=2.6->nbformat->solara-server==1.33.0->solara-server[dev,starlette]==1.33.0->solara->mesa) (0.18.1)\n",
      "Requirement already satisfied: platformdirs>=2.5 in /Library/Frameworks/Python.framework/Versions/3.11/lib/python3.11/site-packages (from jupyter-core>=4.9.2->jupyter-client>=7.0.0->solara-server==1.33.0->solara-server[dev,starlette]==1.33.0->solara->mesa) (4.1.0)\n",
      "Requirement already satisfied: parso<0.9.0,>=0.8.0 in /Library/Frameworks/Python.framework/Versions/3.11/lib/python3.11/site-packages (from jedi>=0.16->ipython>=6.1.0->ipywidgets>=7.7->solara-ui==1.33.0->solara-ui[all]==1.33.0->solara->mesa) (0.8.3)\n",
      "Requirement already satisfied: ptyprocess>=0.5 in /Library/Frameworks/Python.framework/Versions/3.11/lib/python3.11/site-packages (from pexpect>4.3->ipython>=6.1.0->ipywidgets>=7.7->solara-ui==1.33.0->solara-ui[all]==1.33.0->solara->mesa) (0.7.0)\n",
      "Requirement already satisfied: wcwidth in /Library/Frameworks/Python.framework/Versions/3.11/lib/python3.11/site-packages (from prompt-toolkit<3.1.0,>3.0.1->ipython>=6.1.0->ipywidgets>=7.7->solara-ui==1.33.0->solara-ui[all]==1.33.0->solara->mesa) (0.2.5)\n",
      "Requirement already satisfied: executing>=1.2.0 in /Library/Frameworks/Python.framework/Versions/3.11/lib/python3.11/site-packages (from stack-data->ipython>=6.1.0->ipywidgets>=7.7->solara-ui==1.33.0->solara-ui[all]==1.33.0->solara->mesa) (1.2.0)\n",
      "Requirement already satisfied: asttokens>=2.1.0 in /Library/Frameworks/Python.framework/Versions/3.11/lib/python3.11/site-packages (from stack-data->ipython>=6.1.0->ipywidgets>=7.7->solara-ui==1.33.0->solara-ui[all]==1.33.0->solara->mesa) (2.1.0)\n",
      "Requirement already satisfied: pure-eval in /Library/Frameworks/Python.framework/Versions/3.11/lib/python3.11/site-packages (from stack-data->ipython>=6.1.0->ipywidgets>=7.7->solara-ui==1.33.0->solara-ui[all]==1.33.0->solara->mesa) (0.2.2)\n",
      "Downloading pip-24.1-py3-none-any.whl (1.8 MB)\n",
      "\u001b[2K   \u001b[90m━━━━━━━━━━━━━━━━━━━━━━━━━━━━━━━━━━━━━━━━\u001b[0m \u001b[32m1.8/1.8 MB\u001b[0m \u001b[31m16.4 MB/s\u001b[0m eta \u001b[36m0:00:00\u001b[0m00:01\u001b[0m00:01\u001b[0m\n",
      "\u001b[?25hInstalling collected packages: pip\n",
      "  Attempting uninstall: pip\n",
      "    Found existing installation: pip 24.0\n",
      "    Uninstalling pip-24.0:\n",
      "      Successfully uninstalled pip-24.0\n",
      "Successfully installed pip-24.1\n",
      "Note: you may need to restart the kernel to use updated packages.\n"
     ]
    }
   ],
   "source": [
    "%pip install --upgrade pip mesa"
   ]
  },
  {
   "cell_type": "markdown",
   "metadata": {},
   "source": [
    "## Imports\n",
    "These are all the libraries that are needed for the project."
   ]
  },
  {
   "cell_type": "code",
   "execution_count": 1,
   "metadata": {},
   "outputs": [],
   "source": [
    "import pandas as pd\n",
    "import numpy as np\n",
    "import seaborn as sns\n",
    "\n",
    "import mesa"
   ]
  },
  {
   "cell_type": "markdown",
   "metadata": {},
   "source": [
    "## Create agents\n",
    "\n",
    "When using mesa you need to create the agents, these are different classes. They have been created below."
   ]
  },
  {
   "cell_type": "code",
   "execution_count": 4,
   "metadata": {},
   "outputs": [],
   "source": [
    "class EmployeeAgent(mesa.Agent):\n",
    "    \"\"\"Represents employees in the Gym\"\"\"\n",
    "    def __init__(self, unique_id: int, model: mesa.Model) -> None:\n",
    "        super().__init__(unique_id, model)\n",
    "\n",
    "    def step(self) -> None:\n",
    "        print(f\"Employee {self.unique_id}\")"
   ]
  },
  {
   "cell_type": "code",
   "execution_count": 5,
   "metadata": {},
   "outputs": [],
   "source": [
    "class GymAttendeeAgent(mesa.Agent):\n",
    "    \"\"\"Represents gym goers\"\"\"\n",
    "    def __init__(self, unique_id: int, model: mesa.Model) -> None:\n",
    "        super().__init__(unique_id, model)\n",
    "\n",
    "    def step(self) -> None:\n",
    "        print(f\"Attendee {self.unique_id}\")"
   ]
  },
  {
   "cell_type": "markdown",
   "metadata": {},
   "source": [
    "## Create model\n",
    "This creates the grid of the gym, while also creating a place to store all the agents."
   ]
  },
  {
   "cell_type": "code",
   "execution_count": 6,
   "metadata": {},
   "outputs": [],
   "source": [
    "class GymModel(mesa.Model):\n",
    "    \"\"\"A representation of the Gym\"\"\"\n",
    "    def __init__(self, num_employees, num_attendees, gym_width, gym_depth) -> None:\n",
    "        super().__init__()\n",
    "        self.num_employees = num_employees\n",
    "        self.num_attendees = num_attendees\n",
    "        self.grid = mesa.space.SingleGrid(gym_width, gym_depth, False)\n",
    "\n",
    "        self.schedule = mesa.time.RandomActivation(self)\n",
    "\n",
    "        for i in range(self.num_employees):\n",
    "            a = EmployeeAgent(i, self)\n",
    "\n",
    "            # For now place everyone at a random location\n",
    "            x = self.random.randrange(self.grid.width)\n",
    "            y = self.random.randrande(self.grid.height)\n",
    "            \n",
    "            self.schedule.add(a)\n",
    "            self.grid.place_agent(a, (x, y))\n",
    "\n",
    "        for j in range(self.num_attendees):\n",
    "            a = GymAttendeeAgent(j, self)\n",
    "\n",
    "            # For now place everyone at a random location\n",
    "            x = self.random.randrange(self.grid.width)\n",
    "            y = self.random.randrande(self.grid.height)\n",
    "\n",
    "            self.schedule.add(a)\n",
    "            self.grid.place_agent(a, (x, y))\n",
    "\n",
    "    def step(self):\n",
    "        \"\"\"Advance the model by one step\"\"\"\n",
    "        self.schedule.step()"
   ]
  },
  {
   "cell_type": "markdown",
   "metadata": {},
   "source": [
    "## Run the model"
   ]
  },
  {
   "cell_type": "code",
   "execution_count": 7,
   "metadata": {},
   "outputs": [
    {
     "name": "stdout",
     "output_type": "stream",
     "text": [
      "Employee 4\n",
      "Employee 6\n",
      "Attendee 1\n",
      "Employee 5\n",
      "Employee 9\n",
      "Attendee 5\n",
      "Employee 2\n",
      "Attendee 2\n",
      "Attendee 9\n",
      "Employee 7\n",
      "Employee 0\n",
      "Attendee 6\n",
      "Attendee 8\n",
      "Attendee 7\n",
      "Employee 3\n",
      "Employee 1\n",
      "Attendee 3\n",
      "Attendee 0\n",
      "Attendee 4\n",
      "Employee 8\n"
     ]
    }
   ],
   "source": [
    "starter_model = GymModel(10, 10, 100, 100)\n",
    "starter_model.step()"
   ]
  }
 ],
 "metadata": {
  "kernelspec": {
   "display_name": "Python 3",
   "language": "python",
   "name": "python3"
  },
  "language_info": {
   "codemirror_mode": {
    "name": "ipython",
    "version": 3
   },
   "file_extension": ".py",
   "mimetype": "text/x-python",
   "name": "python",
   "nbconvert_exporter": "python",
   "pygments_lexer": "ipython3",
   "version": "3.11.0"
  }
 },
 "nbformat": 4,
 "nbformat_minor": 2
}
